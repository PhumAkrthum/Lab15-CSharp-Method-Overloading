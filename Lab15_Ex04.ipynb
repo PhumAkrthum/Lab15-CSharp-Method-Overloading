{
 "cells": [
  {
   "cell_type": "markdown",
   "metadata": {},
   "source": [
    "# Lab 15 Exercise 4"
   ]
  },
  {
   "cell_type": "markdown",
   "metadata": {},
   "source": [
    "## Virtual member inheritance"
   ]
  },
  {
   "cell_type": "markdown",
   "metadata": {},
   "source": [
    "1.สร้าง console application project\n",
    "\n",
    "```cmd\n",
    "dotnet new console --name Lab15_Ex04\n",
    "```"
   ]
  },
  {
   "cell_type": "markdown",
   "metadata": {},
   "source": [
    "2.เปลี่ยน code ให้เป็นดังต่อไปนี้\n",
    "\n",
    "```csharp\n",
    "var b = new Base();\n",
    "var d1 = new Derived_1();\n",
    "var d2 = new Derived_2();\n",
    "\n",
    "b.A();\n",
    "d1.A();\n",
    "d2.A();\n",
    "\n",
    "class Base\n",
    "{\n",
    "    public virtual void A()\n",
    "    {\n",
    "        WriteLine(\"Base.A()\");\n",
    "    }\n",
    "}\n",
    "class Derived_1 : Base\n",
    "{\n",
    "    public override void A()\n",
    "    {\n",
    "        WriteLine(\"Derived_1.A()\");\n",
    "    }\n",
    "}\n",
    "class Derived_2 : Derived_1\n",
    "{\n",
    "    public override void A()\n",
    "    {\n",
    "        WriteLine(\"Derived_2.A()\");\n",
    "    }\n",
    "}\n",
    "```"
   ]
  },
  {
   "cell_type": "markdown",
   "metadata": {},
   "source": [
    "3.Build project โดยการใช้คำสั่ง\n",
    "\n",
    "```cmd\n",
    "dotnet build  Lab15_Ex04\n",
    "```\n",
    "\n",
    "ถ้ามีที่ผิดพลาดในโปรแกรม ให้แก้ไขให้ถูกต้อง"
   ]
  },
  {
   "cell_type": "markdown",
   "metadata": {},
   "source": [
    "4.บันทึกผลที่ได้จากการรันคำสั่งในข้อ 3"
   ]
  },
  {
   "cell_type": "markdown",
   "metadata": {},
   "source": [
    "C:\\Users\\asus\\Documents\\LAB15\\Lab15-CSharp-Method-Overloading>dotnet build  Lab15_Ex04             \n",
    "\n",
    "Restore complete (0.3s)\n",
    "\n",
    "  Lab15_Ex04 succeeded (0.3s) → Lab15_Ex04\\bin\\Debug\\net9.0\\Lab15_Ex04.dll\n",
    "\n",
    "Build succeeded in 1.0s"
   ]
  },
  {
   "cell_type": "markdown",
   "metadata": {},
   "source": [
    "5.Run project โดยการใช้คำสั่ง\n",
    "```cmd\n",
    "dotnet run --project Lab15_Ex04\n",
    "```\n",
    "\n"
   ]
  },
  {
   "cell_type": "markdown",
   "metadata": {},
   "source": [
    "6.บันทึกผลที่ได้จากการรันคำสั่งในข้อ 5"
   ]
  },
  {
   "cell_type": "markdown",
   "metadata": {},
   "source": [
    "C:\\Users\\asus\\Documents\\LAB15\\Lab15-CSharp-Method-Overloading>dotnet run --project Lab15_Ex04      \n",
    "\n",
    "Base.A()\n",
    "\n",
    "Derived_1.A()\n",
    "\n",
    "Derived_2.A() - Calling Derived_1.A()\n",
    "\n",
    "Derived_1.A()"
   ]
  },
  {
   "cell_type": "markdown",
   "metadata": {},
   "source": [
    "7.อธิบายสิ่งที่พบในการทดลอง"
   ]
  },
  {
   "cell_type": "markdown",
   "metadata": {},
   "source": [
    "จากการทดลองBase เป็น Base Class ที่มีเมธอด A() ซึ่งเป็น virtual เมธอด A() สามารถถูก override ได้ในคลาสลูก Derived_1 เป็นคลาสลูกของ Base\n",
    "มีการ override เมธอด A() เพื่อเปลี่ยนพฤติกรรม และ Derived_2 สืบทอดมาจาก Derived_1 อีกที"
   ]
  }
 ],
 "metadata": {
  "kernelspec": {
   "display_name": ".NET (C#)",
   "language": "C#",
   "name": ".net-csharp"
  },
  "polyglot_notebook": {
   "kernelInfo": {
    "defaultKernelName": "csharp",
    "items": [
     {
      "aliases": [],
      "languageName": "csharp",
      "name": "csharp"
     }
    ]
   }
  }
 },
 "nbformat": 4,
 "nbformat_minor": 2
}
